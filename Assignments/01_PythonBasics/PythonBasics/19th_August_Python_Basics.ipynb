{
 "cells": [
  {
   "cell_type": "markdown",
   "id": "99c108aa",
   "metadata": {},
   "source": [
    "__TOPIC: Python Basics Variable__\n",
    "\n",
    "______"
   ]
  },
  {
   "cell_type": "markdown",
   "id": "abf351d1",
   "metadata": {},
   "source": [
    "__Q1.__ Declare two variables, `x` and `y`, and assign them integer values. Swap the values of these variables without using any temporary variable."
   ]
  },
  {
   "cell_type": "markdown",
   "id": "2737349f",
   "metadata": {},
   "source": [
    "__A1.__ There are various methods to achieve the swaping. 2 of them are as given below:"
   ]
  },
  {
   "cell_type": "code",
   "execution_count": 11,
   "id": "8b62e207",
   "metadata": {},
   "outputs": [
    {
     "name": "stdout",
     "output_type": "stream",
     "text": [
      "x: 10\n",
      "y: 5\n"
     ]
    }
   ],
   "source": [
    "# Method 1 - Multiple Assignement Feature\n",
    "x = 5\n",
    "y = 10\n",
    "\n",
    "x, y = y, x\n",
    "\"\"\"\n",
    "On the right side of the assignment, we create a tuple (y, x) that holds the values of y and x in that order.\n",
    "On the left side of the assignment, we use multiple variables x and y separated by commas to match the elements of the tuple.\n",
    "The values are automatically assigned to the variables in the order they appear in the tuple, effectively swapping the values of x and y.\n",
    "\"\"\"\n",
    "print(\"x:\", x)  # Output: x: 10\n",
    "print(\"y:\", y)  # Output: y: 5"
   ]
  },
  {
   "cell_type": "code",
   "execution_count": 12,
   "id": "4d1f872d",
   "metadata": {},
   "outputs": [
    {
     "name": "stdout",
     "output_type": "stream",
     "text": [
      "x: 10\n",
      "y: 5\n"
     ]
    }
   ],
   "source": [
    "# Method 2 - Arithmetic Operations\n",
    "x = 5\n",
    "y = 10\n",
    "\n",
    "x = x + y  # x = 5 + 10 = 15\n",
    "y = x - y  # y = 15 - 10 = 5\n",
    "x = x - y  # x = 15 - 5 = 10\n",
    "\n",
    "print(\"x:\", x)  # Output: x: 10\n",
    "print(\"y:\", y)  # Output: y: 5"
   ]
  },
  {
   "cell_type": "markdown",
   "id": "5de08f1b",
   "metadata": {},
   "source": [
    "__Q2.__ Create a program that calculates the area of a rectangle. Take the length and width as inputs from the user and store them in variables. Calculate and display the area."
   ]
  },
  {
   "cell_type": "markdown",
   "id": "87b022e9",
   "metadata": {},
   "source": [
    "__A2.__"
   ]
  },
  {
   "cell_type": "code",
   "execution_count": 13,
   "id": "68053848",
   "metadata": {},
   "outputs": [
    {
     "name": "stdout",
     "output_type": "stream",
     "text": [
      "Enter the length of the rectangle: 10\n",
      "Enter the width of the rectangle: 5\n",
      "The area of the rectangle is: 50.0\n"
     ]
    }
   ],
   "source": [
    "length = float(input(\"Enter the length of the rectangle: \"))\n",
    "width = float(input(\"Enter the width of the rectangle: \"))\n",
    "\n",
    "# input() function is used to obtain user input for the length and width of the rectangle. \n",
    "# float() function is used to convert the input values from strings to floating-point numbers, allowing for decimal values.\n",
    "\n",
    "\n",
    "area = length * width\n",
    "\n",
    "print(\"The area of the rectangle is:\", area)"
   ]
  },
  {
   "cell_type": "markdown",
   "id": "595a47c9",
   "metadata": {},
   "source": [
    "__Q3.__ Write a Python program that converts temperatures from Celsius to Fahrenheit. Take the temperature in Celsius as input, store it in a variable, convert it to Fahrenheit, and display the result."
   ]
  },
  {
   "cell_type": "markdown",
   "id": "d7a61f77",
   "metadata": {},
   "source": [
    "__A3.__"
   ]
  },
  {
   "cell_type": "code",
   "execution_count": 15,
   "id": "7b64fd36",
   "metadata": {},
   "outputs": [
    {
     "name": "stdout",
     "output_type": "stream",
     "text": [
      "Enter the temperature in Celsius: 40\n",
      "The temperature in Fahrenheit is: 104.0\n"
     ]
    }
   ],
   "source": [
    "celsius = float(input(\"Enter the temperature in Celsius: \"))\n",
    "\n",
    "# input() function is used to obtain user input for the temperature in Celsius.\n",
    "# float() function is used to convert the input value from a string to a floating-point number.\n",
    "\n",
    "fahrenheit = (celsius * 9/5) + 32\n",
    "\n",
    "print(\"The temperature in Fahrenheit is:\", fahrenheit)"
   ]
  },
  {
   "cell_type": "markdown",
   "id": "e520593c",
   "metadata": {},
   "source": [
    "____\n",
    "__TOPIC: String Based Questions__\n",
    "\n",
    "______"
   ]
  },
  {
   "cell_type": "markdown",
   "id": "a8efa0b6",
   "metadata": {},
   "source": [
    "__Q1.__ Write a Python program that takes a string as input and prints the length of the string."
   ]
  },
  {
   "cell_type": "markdown",
   "id": "79087008",
   "metadata": {},
   "source": [
    "__A1.__"
   ]
  },
  {
   "cell_type": "code",
   "execution_count": 17,
   "id": "31a6d608",
   "metadata": {},
   "outputs": [
    {
     "name": "stdout",
     "output_type": "stream",
     "text": [
      "Enter a string: Preparing assignment for String Based Questions\n",
      "The length of the string is: 47\n"
     ]
    }
   ],
   "source": [
    "string = input(\"Enter a string: \")\n",
    "\n",
    "# input() function is used to obtain user input for a string. The entered string is stored in the variable string.\n",
    "\n",
    "length = len(string)\n",
    "\n",
    "# len() function calculates the length of the string, which returns the number of characters in the string.\n",
    "\n",
    "print(\"The length of the string is:\", length)"
   ]
  },
  {
   "cell_type": "markdown",
   "id": "2f4be523",
   "metadata": {},
   "source": [
    "__Q2.__ Create a program that takes a sentence from the user and counts the number of vowels (a, e, i, o, u) in the string."
   ]
  },
  {
   "cell_type": "markdown",
   "id": "e78b9ecc",
   "metadata": {},
   "source": [
    "__A2.__"
   ]
  },
  {
   "cell_type": "code",
   "execution_count": 18,
   "id": "e59c81d8",
   "metadata": {},
   "outputs": [
    {
     "name": "stdout",
     "output_type": "stream",
     "text": [
      "Enter a sentence: I am preparing an assignment on String Based Questions to submit for evaluation.\n",
      "The number of vowels in the sentence is: 27\n"
     ]
    }
   ],
   "source": [
    "sentence = input(\"Enter a sentence: \")\n",
    "\n",
    "# input() function is used to obtain user input for a sentence. The entered sentence is stored in the variable sentence.\n",
    "\n",
    "vowels = \"aeiou\" # variable vowels is defined as a string containing all the vowels (a, e, i, o, u)\n",
    "count = 0\n",
    "\n",
    "for char in sentence:\n",
    "    if char.lower() in vowels:\n",
    "        count += 1\n",
    "        \n",
    "# for loop to iterate over each character in the sentence. \n",
    "# For each character, we check if it is a vowel by using the lower() method to convert the character to lowercase and\n",
    "# then check if it exists in the vowels string.\n",
    "# If a character is a vowel, we increment the count variable by 1.\n",
    "\n",
    "print(\"The number of vowels in the sentence is:\", count)"
   ]
  },
  {
   "cell_type": "markdown",
   "id": "8aaa9831",
   "metadata": {},
   "source": [
    "__Q3.__ Given a string, reverse the order of characters using string slicing and print the reversed string."
   ]
  },
  {
   "cell_type": "markdown",
   "id": "aeb7d297",
   "metadata": {},
   "source": [
    "__A3.__"
   ]
  },
  {
   "cell_type": "code",
   "execution_count": 19,
   "id": "7195f322",
   "metadata": {},
   "outputs": [
    {
     "name": "stdout",
     "output_type": "stream",
     "text": [
      "Enter a string: August Python Basics Assignment\n",
      "Reversed string: tnemngissA scisaB nohtyP tsuguA\n"
     ]
    }
   ],
   "source": [
    "string = input(\"Enter a string: \")\n",
    "\n",
    "# input() function is used to obtain user input for a string. The entered string is stored in the variable string.\n",
    "\n",
    "reversed_string = string[::-1]\n",
    "\n",
    "# To reverse the order of characters in the string, we use string slicing with a step value of -1.\n",
    "# The slicing notation [::-1] means to start from the end of the string and move backward with a step of -1, \n",
    "# effectively reversing the order of characters.\n",
    "\n",
    "print(\"Reversed string:\", reversed_string)"
   ]
  },
  {
   "cell_type": "markdown",
   "id": "7e10c965",
   "metadata": {},
   "source": [
    "__Q4.__ Write a program that takes a string as input and checks if it is a palindrome  (reads the same forwards and backwards)."
   ]
  },
  {
   "cell_type": "markdown",
   "id": "49b0842e",
   "metadata": {},
   "source": [
    "__A4.__"
   ]
  },
  {
   "cell_type": "code",
   "execution_count": 23,
   "id": "3ccb515f",
   "metadata": {},
   "outputs": [
    {
     "name": "stdout",
     "output_type": "stream",
     "text": [
      "Enter a string: Step on no pets\n",
      "It is Palindrome.\n"
     ]
    }
   ],
   "source": [
    "string = input(\"Enter a string: \")\n",
    "\n",
    "# input() function is used to obtain user input for a string. The entered string is stored in the variable string.\n",
    "\n",
    "reversed_string = string[::-1]\n",
    "\n",
    "if string.lower() == reversed_string.lower():\n",
    "    print(\"It is Palindrome.\")\n",
    "else:\n",
    "    print(\"It is not a Palindrome.\")\n",
    "\n",
    "# if condition checks if the string in lower case is equal to its reverse in lower case"
   ]
  },
  {
   "cell_type": "markdown",
   "id": "694a3df9",
   "metadata": {},
   "source": [
    "__Q5.__ Create a program that takes a string as input and removes all the spaces from it. Print the modified string without spaces."
   ]
  },
  {
   "cell_type": "markdown",
   "id": "290b6db3",
   "metadata": {},
   "source": [
    "__A5.__"
   ]
  },
  {
   "cell_type": "code",
   "execution_count": 24,
   "id": "28a5f9ef",
   "metadata": {},
   "outputs": [
    {
     "name": "stdout",
     "output_type": "stream",
     "text": [
      "Enter a string: August Python Basics Assignment\n",
      "Modified string without spaces: AugustPythonBasicsAssignment\n"
     ]
    }
   ],
   "source": [
    "# Input from the user\n",
    "string = input(\"Enter a string: \")\n",
    "\n",
    "string_without_spaces = string.replace(\" \",\"\")\n",
    "\n",
    "# replace() function to remove spaces in a given string\n",
    "\n",
    "print(\"Modified string without spaces:\", string_without_spaces)"
   ]
  },
  {
   "cell_type": "markdown",
   "id": "c0269d99",
   "metadata": {},
   "source": [
    "_____"
   ]
  }
 ],
 "metadata": {
  "kernelspec": {
   "display_name": "Python 3 (ipykernel)",
   "language": "python",
   "name": "python3"
  },
  "language_info": {
   "codemirror_mode": {
    "name": "ipython",
    "version": 3
   },
   "file_extension": ".py",
   "mimetype": "text/x-python",
   "name": "python",
   "nbconvert_exporter": "python",
   "pygments_lexer": "ipython3",
   "version": "3.9.7"
  }
 },
 "nbformat": 4,
 "nbformat_minor": 5
}
